{
 "cells": [
  {
   "cell_type": "markdown",
   "metadata": {},
   "source": [
    "# Bigram语言模型实践\n",
    "本notebook是对第01章Bigram语言模型教程的补充材料，提供交互式的实例和可视化，帮助理解Bigram模型的工作原理。"
   ]
  },
  {
   "cell_type": "markdown",
   "metadata": {},
   "source": [
    "## 1. 导入必要的库"
   ]
  },
  {
   "cell_type": "code",
   "execution_count": 10,
   "metadata": {},
   "outputs": [],
   "source": [
    "import random\n",
    "import numpy as np\n",
    "import matplotlib.pyplot as plt\n",
    "from collections import defaultdict, Counter\n",
    "\n",
    "# 导入我们的Bigram模型实现\n",
    "from bigram_model import (\n",
    "    preprocess_text,\n",
    "    preprocess_chinese_text,\n",
    "    train_bigram_model,\n",
    "    generate_text,\n",
    "    calculate_perplexity,\n",
    "    visualize_bigram_probabilities\n",
    ")\n",
    "\n",
    "# 设置随机种子，确保结果可重现\n",
    "random.seed(42)\n"
   ]
  },
  {
   "cell_type": "markdown",
   "metadata": {},
   "source": [
    "## 2. Bigram模型基础\n",
    "Bigram（二元语法）模型是最简单的N-gram模型之一，它基于一阶马尔可夫假设，认为一个词的出现只与其前一个词相关。\n",
    "在Bigram模型中，一个句子的概率可以表示为："
   ]
  },
  {
   "cell_type": "markdown",
   "metadata": {},
   "source": [
    "## 3. 英文文本的Bigram模型示例"
   ]
  },
  {
   "cell_type": "code",
   "execution_count": 12,
   "metadata": {},
   "outputs": [
    {
     "name": "stdout",
     "output_type": "stream",
     "text": [
      "词汇表大小: 33\n",
      "句子数量: 5\n",
      "\n",
      "预处理后的前两个句子:\n",
      "句子 1: ['<s>', 'the', 'quick', 'brown', 'fox', 'jumps', 'over', 'the', 'lazy', 'dog', '</s>']\n",
      "句子 2: ['<s>', 'the', 'dog', 'barks', 'at', 'the', 'fox', '</s>']\n",
      "\n",
      "部分词汇表:\n",
      "['away', 'model', 'quick', 'fox', 'is', 'brown', 'next', 'runs', 'distribution', '<s>']\n"
     ]
    }
   ],
   "source": [
    "# 英文示例文本\n",
    "english_text = \"\"\"\n",
    "The quick brown fox jumps over the lazy dog. \n",
    "The dog barks at the fox. \n",
    "The fox runs away quickly.\n",
    "A language model is a probability distribution over sequences of words.\n",
    "Bigram models consider only the previous word when predicting the next word.\n",
    "\"\"\"\n",
    "\n",
    "# 预处理文本\n",
    "sentences, vocab = preprocess_text(english_text)\n",
    "print(f\"词汇表大小: {len(vocab)}\")\n",
    "print(f\"句子数量: {len(sentences)}\")\n",
    "\n",
    "# 展示预处理后的前两个句子\n",
    "print(\"\\n预处理后的前两个句子:\")\n",
    "for i in range(min(2, len(sentences))):\n",
    "    print(f\"句子 {i+1}: {sentences[i]}\")\n",
    "\n",
    "# 展示部分词汇表\n",
    "print(\"\\n部分词汇表:\")\n",
    "print(list(vocab)[:10])"
   ]
  },
  {
   "cell_type": "code",
   "execution_count": null,
   "metadata": {},
   "outputs": [],
   "source": []
  },
  {
   "cell_type": "markdown",
   "metadata": {},
   "source": [
    "### 3.1 训练不同平滑方法的Bigram模型"
   ]
  },
  {
   "cell_type": "code",
   "execution_count": 13,
   "metadata": {},
   "outputs": [
    {
     "name": "stdout",
     "output_type": "stream",
     "text": [
      "使用none平滑方法训练完成\n",
      "使用laplace平滑方法训练完成\n",
      "使用add_k平滑方法训练完成\n",
      "使用interpolation平滑方法训练完成\n"
     ]
    }
   ],
   "source": [
    "# 训练Bigram模型（使用不同的平滑方法）\n",
    "smoothing_methods = ['none', 'laplace', 'add_k', 'interpolation']\n",
    "models = {}\n",
    "\n",
    "for method in smoothing_methods:\n",
    "    if method == 'add_k':\n",
    "        models[method] = train_bigram_model(sentences, vocab, smoothing=method, k=0.5)[0]\n",
    "    else:\n",
    "        models[method] = train_bigram_model(sentences, vocab, smoothing=method)[0]\n",
    "    \n",
    "    print(f\"使用{method}平滑方法训练完成\")"
   ]
  },
  {
   "cell_type": "markdown",
   "metadata": {},
   "source": [
    "### 3.2 探索条件概率"
   ]
  },
  {
   "cell_type": "code",
   "execution_count": 14,
   "metadata": {},
   "outputs": [
    {
     "name": "stdout",
     "output_type": "stream",
     "text": [
      "词'the'后面可能出现的词及其概率（使用拉普拉斯平滑）:\n",
      "  fox: 0.0750\n",
      "  quick: 0.0500\n",
      "  next: 0.0500\n",
      "  lazy: 0.0500\n",
      "  previous: 0.0500\n",
      "  dog: 0.0500\n",
      "  away: 0.0250\n",
      "  model: 0.0250\n",
      "  is: 0.0250\n",
      "  brown: 0.0250\n"
     ]
    }
   ],
   "source": [
    "# 探索某个词后面可能出现的词及其概率\n",
    "word = 'the'  # 尝试改变这个词，查看不同词的条件概率\n",
    "\n",
    "print(f\"词'{word}'后面可能出现的词及其概率（使用拉普拉斯平滑）:\")\n",
    "if word in models['laplace']:\n",
    "    # 获取条件概率，按概率从高到低排序\n",
    "    next_words = [(next_word, prob) for next_word, prob in models['laplace'][word].items() if prob > 0]\n",
    "    next_words.sort(key=lambda x: x[1], reverse=True)\n",
    "    \n",
    "    # 显示前10个最可能的词\n",
    "    for next_word, prob in next_words[:10]:\n",
    "        print(f\"  {next_word}: {prob:.4f}\")\n",
    "else:\n",
    "    print(f\"词'{word}'不在模型中\")"
   ]
  },
  {
   "cell_type": "markdown",
   "metadata": {},
   "source": [
    "### 3.3 不同平滑方法的比较"
   ]
  },
  {
   "cell_type": "code",
   "execution_count": 15,
   "metadata": {},
   "outputs": [
    {
     "name": "stdout",
     "output_type": "stream",
     "text": [
      "词'the'后面出现词'fox'的概率（不同平滑方法）:\n",
      "  none平滑: 0.285714\n",
      "  laplace平滑: 0.075000\n",
      "  add_k平滑: 0.106383\n",
      "  interpolation平滑: 0.263393\n"
     ]
    }
   ],
   "source": [
    "# 比较不同平滑方法对同一个词的条件概率的影响\n",
    "word = 'the'  # 尝试改变这个词\n",
    "next_word = 'fox'  # 尝试改变这个词\n",
    "\n",
    "print(f\"词'{word}'后面出现词'{next_word}'的概率（不同平滑方法）:\")\n",
    "for method, model in models.items():\n",
    "    if word in model and next_word in model[word]:\n",
    "        prob = model[word][next_word]\n",
    "        print(f\"  {method}平滑: {prob:.6f}\")\n",
    "    else:\n",
    "        print(f\"  {method}平滑: 0.000000\")"
   ]
  },
  {
   "cell_type": "markdown",
   "metadata": {},
   "source": [
    "### 3.4 使用模型生成文本"
   ]
  },
  {
   "cell_type": "code",
   "execution_count": 19,
   "metadata": {},
   "outputs": [
    {
     "name": "stdout",
     "output_type": "stream",
     "text": [
      "使用不同平滑方法生成的文本：\n",
      "\n",
      "none平滑方法：\n",
      "  生成的文本: a probability distribution over sequences of words\n",
      "  生成的文本: the dog barks at the fox runs away quickly\n",
      "  生成的文本: the previous word\n",
      "\n",
      "laplace平滑方法：\n",
      "  生成的文本: consider probability probability a bigram predicting fox sequences lazy dog distribution next over sequences <s> <s> only over language at\n",
      "  生成的文本: model predicting words when when language is consider runs quickly model lazy predicting <s> the sequences probability when predicting\n",
      "  生成的文本: jumps brown <s> when of\n",
      "\n",
      "add_k平滑方法：\n",
      "  生成的文本: the quick\n",
      "  生成的文本: word dog brown when quick brown\n",
      "  生成的文本: jumps distribution is dog <s> a previous probability\n",
      "\n",
      "interpolation平滑方法：\n",
      "  生成的文本: the dog barks at the fox jumps over sequences of the next predicting when the fox runs <s> the dog\n",
      "  生成的文本: a probability distribution over the dog\n",
      "  生成的文本: fox jumps over the dog barks at the lazy dog\n"
     ]
    }
   ],
   "source": [
    "# 生成文本\n",
    "print(\"使用不同平滑方法生成的文本：\")\n",
    "for method, model in models.items():\n",
    "    print(f\"\\n{method}平滑方法：\")\n",
    "    for _ in range(3):\n",
    "        generated_text = generate_text(model)\n",
    "        print(f\"  生成的文本: {generated_text}\")"
   ]
  },
  {
   "cell_type": "markdown",
   "metadata": {},
   "source": [
    "### 3.5 计算困惑度"
   ]
  },
  {
   "cell_type": "code",
   "execution_count": 20,
   "metadata": {},
   "outputs": [
    {
     "name": "stdout",
     "output_type": "stream",
     "text": [
      "不同平滑方法的困惑度：\n",
      "none平滑方法的困惑度: 1.7127\n",
      "laplace平滑方法的困惑度: 16.7214\n",
      "add_k平滑方法的困惑度: 11.7394\n",
      "interpolation平滑方法的困惑度: 1.8856\n"
     ]
    }
   ],
   "source": [
    "# 计算困惑度\n",
    "print(\"不同平滑方法的困惑度：\")\n",
    "for method, model in models.items():\n",
    "    perplexity = calculate_perplexity(model, sentences)\n",
    "    print(f\"{method}平滑方法的困惑度: {perplexity:.4f}\")"
   ]
  },
  {
   "cell_type": "markdown",
   "metadata": {},
   "source": [
    "### 3.6 可视化Bigram概率"
   ]
  },
  {
   "cell_type": "code",
   "execution_count": 21,
   "metadata": {},
   "outputs": [
    {
     "data": {
      "image/png": "[encoded data removed]",
      "text/plain": [
       "<Figure size 1000x600 with 1 Axes>"
      ]
     },
     "metadata": {},
     "output_type": "display_data"
    }
   ],
   "source": [
    "# 可视化某些词后面最可能出现的词\n",
    "word = 'the'  # 尝试改变这个词\n",
    "visualize_bigram_probabilities(models['laplace'], word, top_n=5)"
   ]
  },
  {
   "cell_type": "markdown",
   "metadata": {},
   "source": [
    "## 4. 中文文本的Bigram模型示例"
   ]
  },
  {
   "cell_type": "code",
   "execution_count": 23,
   "metadata": {},
   "outputs": [
    {
     "name": "stdout",
     "output_type": "stream",
     "text": [
      "词汇表大小: 40\n",
      "句子数量: 3\n",
      "\n",
      "预处理后的第一个句子:\n",
      "['<s>', '自', '然', '语', '言', '处', '理', '是', '人', '工', '智', '能', '的', '重', '要', '分', '支', '</s>']\n",
      "\n",
      "生成的中文文本：\n",
      "  a 模 <s> 本 然 畅 工 能 之 文 重 的 生 然 B 简 单 单 言 r 处 流\n",
      "  能 然 工 畅 可 a 自 g 人 是 B 智 生 工 型 是 可 畅 然 然 B 单 要 B 然 i 成 成 语\n",
      "  理 模 a 智 能 之 要 大 <s> 大 支 型 智 最 单 r 简 一 分 最 流 大 分 型 文 <s> 模 畅 本 语\n",
      "  的 r 重 生 理 B 本 之 型 本 B 言 之 能 r <s> 一 单 r 分 最 模 i 简 型 自 语 文 可 B\n",
      "  单 人 <s> 简 重 理 的 型 模 的 分 重 g 分 言 m 流 言 本 以 a 流 之 智 能 的 文 i 单 工\n",
      "\n",
      "困惑度: 18.9587\n",
      "\n",
      "可视化'语'后面最可能出现的字：\n"
     ]
    },
    {
     "data": {
      "image/png": "[encoded data removed]",
      "text/plain": [
       "<Figure size 1000x600 with 1 Axes>"
      ]
     },
     "metadata": {},
     "output_type": "display_data"
    }
   ],
   "source": [
    "# 中文示例文本\n",
    "chinese_text = \"\"\"\n",
    "自然语言处理是人工智能的重要分支。\n",
    "大语言模型可以生成流畅的文本。\n",
    "Bigram模型是最简单的语言模型之一。\n",
    "\"\"\"\n",
    "\n",
    "# 预处理中文文本\n",
    "chinese_sentences, chinese_vocab = preprocess_chinese_text(chinese_text)\n",
    "print(f\"词汇表大小: {len(chinese_vocab)}\")\n",
    "print(f\"句子数量: {len(chinese_sentences)}\")\n",
    "\n",
    "# 展示预处理后的第一个句子\n",
    "print(\"\\n预处理后的第一个句子:\")\n",
    "print(chinese_sentences[0])\n",
    "\n",
    "# 训练中文Bigram模型\n",
    "chinese_model, _, _ = train_bigram_model(chinese_sentences, chinese_vocab, smoothing='laplace')\n",
    "\n",
    "# 生成中文文本\n",
    "print(\"\\n生成的中文文本：\")\n",
    "for _ in range(5):\n",
    "    generated_text = generate_text(chinese_model, max_length=30)\n",
    "    print(f\"  {generated_text}\")\n",
    "\n",
    "# 计算困惑度\n",
    "perplexity = calculate_perplexity(chinese_model, chinese_sentences)\n",
    "print(f\"\\n困惑度: {perplexity:.4f}\")\n",
    "\n",
    "# 可视化某些字后面最可能出现的字\n",
    "print(\"\\n可视化'语'后面最可能出现的字：\")\n",
    "visualize_bigram_probabilities(chinese_model, '语', top_n=5)"
   ]
  },
  {
   "cell_type": "markdown",
   "metadata": {},
   "source": [
    "## 5. Bigram模型的局限性分析"
   ]
  },
  {
   "cell_type": "code",
   "execution_count": 24,
   "metadata": {},
   "outputs": [
    {
     "name": "stdout",
     "output_type": "stream",
     "text": [
      "原始文本：\n",
      "\n",
      "The man who lives next door works at the hospital. He is a doctor.\n",
      "The woman who lives upstairs works at the school. She is a teacher.\n",
      "\n",
      "\n",
      "Bigram模型生成的文本：\n",
      "  he is she a school lives <s> at school door the man she at the at teacher he she next door doctor hospital teacher he next door the man the\n",
      "  woman lives doctor school upstairs the who next door school the at <s> upstairs works is a teacher he\n",
      "  he teacher a man who\n",
      "  school at hospital doctor lives he woman\n",
      "  <s> <s> man who man hospital a next next hospital he she hospital woman man who woman who upstairs doctor woman she hospital\n",
      "\n",
      "Bigram模型的局限性：\n",
      "1. 只考虑前一个词的影响，无法捕捉长距离依赖关系\n",
      "2. 生成的文本可能在局部上看起来合理，但整体上缺乏连贯性和一致性\n",
      "3. 对于稀疏数据，即使使用平滑技术，模型的性能也会受到限制\n",
      "4. 无法理解语义，只能基于统计规律生成文本\n"
     ]
    }
   ],
   "source": [
    "# 创建一个包含长距离依赖的文本\n",
    "long_dependency_text = \"\"\"\n",
    "The man who lives next door works at the hospital. He is a doctor.\n",
    "The woman who lives upstairs works at the school. She is a teacher.\n",
    "\"\"\"\n",
    "\n",
    "sentences, vocab = preprocess_text(long_dependency_text)\n",
    "bigram_model, _, _ = train_bigram_model(sentences, vocab, smoothing='laplace')\n",
    "\n",
    "print(\"原始文本：\")\n",
    "print(long_dependency_text)\n",
    "\n",
    "print(\"\\nBigram模型生成的文本：\")\n",
    "for _ in range(5):\n",
    "    generated_text = generate_text(bigram_model, max_length=30)\n",
    "    print(f\"  {generated_text}\")\n",
    "\n",
    "print(\"\\nBigram模型的局限性：\")\n",
    "print(\"1. 只考虑前一个词的影响，无法捕捉长距离依赖关系\")\n",
    "print(\"2. 生成的文本可能在局部上看起来合理，但整体上缺乏连贯性和一致性\")\n",
    "print(\"3. 对于稀疏数据，即使使用平滑技术，模型的性能也会受到限制\")\n",
    "print(\"4. 无法理解语义，只能基于统计规律生成文本\")"
   ]
  }
 ],
 "metadata": {
  "kernelspec": {
   "display_name": "pro",
   "language": "python",
   "name": "python3"
  },
  "language_info": {
   "codemirror_mode": {
    "name": "ipython",
    "version": 3
   },
   "file_extension": ".py",
   "mimetype": "text/x-python",
   "name": "python",
   "nbconvert_exporter": "python",
   "pygments_lexer": "ipython3",
   "version": "3.9.18"
  }
 },
 "nbformat": 4,
 "nbformat_minor": 2
}
